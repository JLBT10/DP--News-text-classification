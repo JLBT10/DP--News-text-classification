{
 "cells": [
  {
   "cell_type": "code",
   "execution_count": 1,
   "metadata": {},
   "outputs": [
    {
     "name": "stdout",
     "output_type": "stream",
     "text": [
      "Requirement already satisfied: datasets in /Users/jlbt/boa_workspace/NewsClassifier-BERT/data_analysis/.env_eda/lib/python3.12/site-packages (3.0.1)\n",
      "Requirement already satisfied: filelock in /Users/jlbt/boa_workspace/NewsClassifier-BERT/data_analysis/.env_eda/lib/python3.12/site-packages (from datasets) (3.16.1)\n",
      "Requirement already satisfied: numpy>=1.17 in /Users/jlbt/boa_workspace/NewsClassifier-BERT/data_analysis/.env_eda/lib/python3.12/site-packages (from datasets) (2.1.2)\n",
      "Requirement already satisfied: pyarrow>=15.0.0 in /Users/jlbt/boa_workspace/NewsClassifier-BERT/data_analysis/.env_eda/lib/python3.12/site-packages (from datasets) (17.0.0)\n",
      "Requirement already satisfied: dill<0.3.9,>=0.3.0 in /Users/jlbt/boa_workspace/NewsClassifier-BERT/data_analysis/.env_eda/lib/python3.12/site-packages (from datasets) (0.3.8)\n",
      "Requirement already satisfied: pandas in /Users/jlbt/boa_workspace/NewsClassifier-BERT/data_analysis/.env_eda/lib/python3.12/site-packages (from datasets) (2.2.3)\n",
      "Requirement already satisfied: requests>=2.32.2 in /Users/jlbt/boa_workspace/NewsClassifier-BERT/data_analysis/.env_eda/lib/python3.12/site-packages (from datasets) (2.32.3)\n",
      "Requirement already satisfied: tqdm>=4.66.3 in /Users/jlbt/boa_workspace/NewsClassifier-BERT/data_analysis/.env_eda/lib/python3.12/site-packages (from datasets) (4.66.5)\n",
      "Requirement already satisfied: xxhash in /Users/jlbt/boa_workspace/NewsClassifier-BERT/data_analysis/.env_eda/lib/python3.12/site-packages (from datasets) (3.5.0)\n",
      "Requirement already satisfied: multiprocess in /Users/jlbt/boa_workspace/NewsClassifier-BERT/data_analysis/.env_eda/lib/python3.12/site-packages (from datasets) (0.70.16)\n",
      "Requirement already satisfied: fsspec<=2024.6.1,>=2023.1.0 in /Users/jlbt/boa_workspace/NewsClassifier-BERT/data_analysis/.env_eda/lib/python3.12/site-packages (from fsspec[http]<=2024.6.1,>=2023.1.0->datasets) (2024.6.1)\n",
      "Requirement already satisfied: aiohttp in /Users/jlbt/boa_workspace/NewsClassifier-BERT/data_analysis/.env_eda/lib/python3.12/site-packages (from datasets) (3.10.10)\n",
      "Requirement already satisfied: huggingface-hub>=0.22.0 in /Users/jlbt/boa_workspace/NewsClassifier-BERT/data_analysis/.env_eda/lib/python3.12/site-packages (from datasets) (0.26.0)\n",
      "Requirement already satisfied: packaging in /Users/jlbt/boa_workspace/NewsClassifier-BERT/data_analysis/.env_eda/lib/python3.12/site-packages (from datasets) (24.1)\n",
      "Requirement already satisfied: pyyaml>=5.1 in /Users/jlbt/boa_workspace/NewsClassifier-BERT/data_analysis/.env_eda/lib/python3.12/site-packages (from datasets) (6.0.2)\n",
      "Requirement already satisfied: aiohappyeyeballs>=2.3.0 in /Users/jlbt/boa_workspace/NewsClassifier-BERT/data_analysis/.env_eda/lib/python3.12/site-packages (from aiohttp->datasets) (2.4.3)\n",
      "Requirement already satisfied: aiosignal>=1.1.2 in /Users/jlbt/boa_workspace/NewsClassifier-BERT/data_analysis/.env_eda/lib/python3.12/site-packages (from aiohttp->datasets) (1.3.1)\n",
      "Requirement already satisfied: attrs>=17.3.0 in /Users/jlbt/boa_workspace/NewsClassifier-BERT/data_analysis/.env_eda/lib/python3.12/site-packages (from aiohttp->datasets) (24.2.0)\n",
      "Requirement already satisfied: frozenlist>=1.1.1 in /Users/jlbt/boa_workspace/NewsClassifier-BERT/data_analysis/.env_eda/lib/python3.12/site-packages (from aiohttp->datasets) (1.4.1)\n",
      "Requirement already satisfied: multidict<7.0,>=4.5 in /Users/jlbt/boa_workspace/NewsClassifier-BERT/data_analysis/.env_eda/lib/python3.12/site-packages (from aiohttp->datasets) (6.1.0)\n",
      "Requirement already satisfied: yarl<2.0,>=1.12.0 in /Users/jlbt/boa_workspace/NewsClassifier-BERT/data_analysis/.env_eda/lib/python3.12/site-packages (from aiohttp->datasets) (1.15.5)\n",
      "Requirement already satisfied: typing-extensions>=3.7.4.3 in /Users/jlbt/boa_workspace/NewsClassifier-BERT/data_analysis/.env_eda/lib/python3.12/site-packages (from huggingface-hub>=0.22.0->datasets) (4.12.2)\n",
      "Requirement already satisfied: charset-normalizer<4,>=2 in /Users/jlbt/boa_workspace/NewsClassifier-BERT/data_analysis/.env_eda/lib/python3.12/site-packages (from requests>=2.32.2->datasets) (3.4.0)\n",
      "Requirement already satisfied: idna<4,>=2.5 in /Users/jlbt/boa_workspace/NewsClassifier-BERT/data_analysis/.env_eda/lib/python3.12/site-packages (from requests>=2.32.2->datasets) (3.10)\n",
      "Requirement already satisfied: urllib3<3,>=1.21.1 in /Users/jlbt/boa_workspace/NewsClassifier-BERT/data_analysis/.env_eda/lib/python3.12/site-packages (from requests>=2.32.2->datasets) (2.2.3)\n",
      "Requirement already satisfied: certifi>=2017.4.17 in /Users/jlbt/boa_workspace/NewsClassifier-BERT/data_analysis/.env_eda/lib/python3.12/site-packages (from requests>=2.32.2->datasets) (2024.8.30)\n",
      "Requirement already satisfied: python-dateutil>=2.8.2 in /Users/jlbt/boa_workspace/NewsClassifier-BERT/data_analysis/.env_eda/lib/python3.12/site-packages (from pandas->datasets) (2.9.0.post0)\n",
      "Requirement already satisfied: pytz>=2020.1 in /Users/jlbt/boa_workspace/NewsClassifier-BERT/data_analysis/.env_eda/lib/python3.12/site-packages (from pandas->datasets) (2024.2)\n",
      "Requirement already satisfied: tzdata>=2022.7 in /Users/jlbt/boa_workspace/NewsClassifier-BERT/data_analysis/.env_eda/lib/python3.12/site-packages (from pandas->datasets) (2024.2)\n",
      "Requirement already satisfied: six>=1.5 in /Users/jlbt/boa_workspace/NewsClassifier-BERT/data_analysis/.env_eda/lib/python3.12/site-packages (from python-dateutil>=2.8.2->pandas->datasets) (1.16.0)\n",
      "Requirement already satisfied: propcache>=0.2.0 in /Users/jlbt/boa_workspace/NewsClassifier-BERT/data_analysis/.env_eda/lib/python3.12/site-packages (from yarl<2.0,>=1.12.0->aiohttp->datasets) (0.2.0)\n",
      "\n",
      "\u001b[1m[\u001b[0m\u001b[34;49mnotice\u001b[0m\u001b[1;39;49m]\u001b[0m\u001b[39;49m A new release of pip is available: \u001b[0m\u001b[31;49m24.2\u001b[0m\u001b[39;49m -> \u001b[0m\u001b[32;49m24.3\u001b[0m\n",
      "\u001b[1m[\u001b[0m\u001b[34;49mnotice\u001b[0m\u001b[1;39;49m]\u001b[0m\u001b[39;49m To update, run: \u001b[0m\u001b[32;49mpip install --upgrade pip\u001b[0m\n",
      "Note: you may need to restart the kernel to use updated packages.\n",
      "Requirement already satisfied: matplotlib in /Users/jlbt/boa_workspace/NewsClassifier-BERT/data_analysis/.env_eda/lib/python3.12/site-packages (3.9.2)\n",
      "Requirement already satisfied: contourpy>=1.0.1 in /Users/jlbt/boa_workspace/NewsClassifier-BERT/data_analysis/.env_eda/lib/python3.12/site-packages (from matplotlib) (1.3.0)\n",
      "Requirement already satisfied: cycler>=0.10 in /Users/jlbt/boa_workspace/NewsClassifier-BERT/data_analysis/.env_eda/lib/python3.12/site-packages (from matplotlib) (0.12.1)\n",
      "Requirement already satisfied: fonttools>=4.22.0 in /Users/jlbt/boa_workspace/NewsClassifier-BERT/data_analysis/.env_eda/lib/python3.12/site-packages (from matplotlib) (4.54.1)\n",
      "Requirement already satisfied: kiwisolver>=1.3.1 in /Users/jlbt/boa_workspace/NewsClassifier-BERT/data_analysis/.env_eda/lib/python3.12/site-packages (from matplotlib) (1.4.7)\n",
      "Requirement already satisfied: numpy>=1.23 in /Users/jlbt/boa_workspace/NewsClassifier-BERT/data_analysis/.env_eda/lib/python3.12/site-packages (from matplotlib) (2.1.2)\n",
      "Requirement already satisfied: packaging>=20.0 in /Users/jlbt/boa_workspace/NewsClassifier-BERT/data_analysis/.env_eda/lib/python3.12/site-packages (from matplotlib) (24.1)\n",
      "Requirement already satisfied: pillow>=8 in /Users/jlbt/boa_workspace/NewsClassifier-BERT/data_analysis/.env_eda/lib/python3.12/site-packages (from matplotlib) (11.0.0)\n",
      "Requirement already satisfied: pyparsing>=2.3.1 in /Users/jlbt/boa_workspace/NewsClassifier-BERT/data_analysis/.env_eda/lib/python3.12/site-packages (from matplotlib) (3.2.0)\n",
      "Requirement already satisfied: python-dateutil>=2.7 in /Users/jlbt/boa_workspace/NewsClassifier-BERT/data_analysis/.env_eda/lib/python3.12/site-packages (from matplotlib) (2.9.0.post0)\n",
      "Requirement already satisfied: six>=1.5 in /Users/jlbt/boa_workspace/NewsClassifier-BERT/data_analysis/.env_eda/lib/python3.12/site-packages (from python-dateutil>=2.7->matplotlib) (1.16.0)\n",
      "\n",
      "\u001b[1m[\u001b[0m\u001b[34;49mnotice\u001b[0m\u001b[1;39;49m]\u001b[0m\u001b[39;49m A new release of pip is available: \u001b[0m\u001b[31;49m24.2\u001b[0m\u001b[39;49m -> \u001b[0m\u001b[32;49m24.3\u001b[0m\n",
      "\u001b[1m[\u001b[0m\u001b[34;49mnotice\u001b[0m\u001b[1;39;49m]\u001b[0m\u001b[39;49m To update, run: \u001b[0m\u001b[32;49mpip install --upgrade pip\u001b[0m\n",
      "Note: you may need to restart the kernel to use updated packages.\n"
     ]
    }
   ],
   "source": [
    "# Installation of packages\n",
    "%pip install datasets\n",
    "%pip install matplotlib\n"
   ]
  },
  {
   "cell_type": "code",
   "execution_count": 6,
   "metadata": {},
   "outputs": [],
   "source": [
    "# Importation of libraries\n",
    "import matplotlib.pyplot as plt\n",
    "from pathlib import Path\n",
    "import pandas as pd\n",
    "from datasets import load_from_disk\n",
    "import os\n"
   ]
  },
  {
   "cell_type": "code",
   "execution_count": 3,
   "metadata": {},
   "outputs": [
    {
     "name": "stdout",
     "output_type": "stream",
     "text": [
      "Current directory before change: /Users/jlbt/boa_workspace/NewsClassifier-BERT/model_dev/data/inshort_dataset\n",
      "Current directory after change: /Users/jlbt/boa_workspace/NewsClassifier-BERT/model_dev/data/inshort_dataset\n"
     ]
    }
   ],
   "source": [
    "\n",
    "current_dir = Path.cwd()\n",
    "print(f\"Current directory before change: {current_dir}\")\n",
    "\n",
    "# Verify the change\n",
    "print(f\"Current directory after change: {Path.cwd()}\")\n",
    "\n",
    "\n"
   ]
  },
  {
   "cell_type": "code",
   "execution_count": 4,
   "metadata": {},
   "outputs": [],
   "source": [
    "# Path to the cached Arrow dataset\n",
    "file_path = '.'\n",
    "\n",
    "# Load the dataset using the datasets library\n",
    "dataset = load_from_disk(file_path)\n",
    "\n",
    "# Convert the dataset to a Pandas DataFrame\n",
    "df = dataset.to_pandas()\n",
    "\n",
    "# Optionally, save to a CSV file\n",
    "df.to_csv('rawdata.csv', index=False)"
   ]
  },
  {
   "cell_type": "code",
   "execution_count": 7,
   "metadata": {},
   "outputs": [
    {
     "name": "stdout",
     "output_type": "stream",
     "text": [
      "<class 'pandas.core.frame.DataFrame'>\n",
      "RangeIndex: 12120 entries, 0 to 12119\n",
      "Data columns (total 2 columns):\n",
      " #   Column  Non-Null Count  Dtype \n",
      "---  ------  --------------  ----- \n",
      " 0   labels  12120 non-null  object\n",
      " 1   text    12120 non-null  object\n",
      "dtypes: object(2)\n",
      "memory usage: 189.5+ KB\n"
     ]
    }
   ],
   "source": [
    "rawdata = pd.read_csv('rawdata.csv')\n",
    "rawdata.info()"
   ]
  },
  {
   "cell_type": "code",
   "execution_count": 8,
   "metadata": {},
   "outputs": [
    {
     "data": {
      "text/html": [
       "<div>\n",
       "<style scoped>\n",
       "    .dataframe tbody tr th:only-of-type {\n",
       "        vertical-align: middle;\n",
       "    }\n",
       "\n",
       "    .dataframe tbody tr th {\n",
       "        vertical-align: top;\n",
       "    }\n",
       "\n",
       "    .dataframe thead th {\n",
       "        text-align: right;\n",
       "    }\n",
       "</style>\n",
       "<table border=\"1\" class=\"dataframe\">\n",
       "  <thead>\n",
       "    <tr style=\"text-align: right;\">\n",
       "      <th></th>\n",
       "      <th>labels</th>\n",
       "      <th>text</th>\n",
       "    </tr>\n",
       "  </thead>\n",
       "  <tbody>\n",
       "    <tr>\n",
       "      <th>0</th>\n",
       "      <td>technology</td>\n",
       "      <td>After Musk tweets 'Use Signal', unrelated stoc...</td>\n",
       "    </tr>\n",
       "    <tr>\n",
       "      <th>1</th>\n",
       "      <td>technology</td>\n",
       "      <td>Donald Trump permanently banned from Twitter T...</td>\n",
       "    </tr>\n",
       "    <tr>\n",
       "      <th>2</th>\n",
       "      <td>technology</td>\n",
       "      <td>Man finds father's image on Google Earth 7 yea...</td>\n",
       "    </tr>\n",
       "    <tr>\n",
       "      <th>3</th>\n",
       "      <td>technology</td>\n",
       "      <td>Bad sign: Mexican Prez after Trump's social me...</td>\n",
       "    </tr>\n",
       "    <tr>\n",
       "      <th>4</th>\n",
       "      <td>technology</td>\n",
       "      <td>Signal app registration system crashes after M...</td>\n",
       "    </tr>\n",
       "    <tr>\n",
       "      <th>...</th>\n",
       "      <td>...</td>\n",
       "      <td>...</td>\n",
       "    </tr>\n",
       "    <tr>\n",
       "      <th>11605</th>\n",
       "      <td>entertainment</td>\n",
       "      <td>I thank my trolls for keeping me relevant: Swa...</td>\n",
       "    </tr>\n",
       "    <tr>\n",
       "      <th>11608</th>\n",
       "      <td>entertainment</td>\n",
       "      <td>Veteran Bengali actor Monu Mukherjee passes aw...</td>\n",
       "    </tr>\n",
       "    <tr>\n",
       "      <th>11639</th>\n",
       "      <td>entertainment</td>\n",
       "      <td>Tannaz Irani tests COVID-19 positive, says 'pr...</td>\n",
       "    </tr>\n",
       "    <tr>\n",
       "      <th>11641</th>\n",
       "      <td>entertainment</td>\n",
       "      <td>His direction helps actors thrive: Deepika on ...</td>\n",
       "    </tr>\n",
       "    <tr>\n",
       "      <th>11738</th>\n",
       "      <td>entertainment</td>\n",
       "      <td>'Wonder Woman 1984' was the hardest movie I ev...</td>\n",
       "    </tr>\n",
       "  </tbody>\n",
       "</table>\n",
       "<p>5419 rows × 2 columns</p>\n",
       "</div>"
      ],
      "text/plain": [
       "              labels                                               text\n",
       "0         technology  After Musk tweets 'Use Signal', unrelated stoc...\n",
       "1         technology  Donald Trump permanently banned from Twitter T...\n",
       "2         technology  Man finds father's image on Google Earth 7 yea...\n",
       "3         technology  Bad sign: Mexican Prez after Trump's social me...\n",
       "4         technology  Signal app registration system crashes after M...\n",
       "...              ...                                                ...\n",
       "11605  entertainment  I thank my trolls for keeping me relevant: Swa...\n",
       "11608  entertainment  Veteran Bengali actor Monu Mukherjee passes aw...\n",
       "11639  entertainment  Tannaz Irani tests COVID-19 positive, says 'pr...\n",
       "11641  entertainment  His direction helps actors thrive: Deepika on ...\n",
       "11738  entertainment  'Wonder Woman 1984' was the hardest movie I ev...\n",
       "\n",
       "[5419 rows x 2 columns]"
      ]
     },
     "execution_count": 8,
     "metadata": {},
     "output_type": "execute_result"
    }
   ],
   "source": [
    "rawdata.drop_duplicates()"
   ]
  },
  {
   "cell_type": "code",
   "execution_count": 9,
   "metadata": {},
   "outputs": [
    {
     "data": {
      "text/plain": [
       "['technology',\n",
       " 'sports',\n",
       " 'world',\n",
       " 'politics',\n",
       " 'entertainment',\n",
       " 'automobile',\n",
       " 'science']"
      ]
     },
     "execution_count": 9,
     "metadata": {},
     "output_type": "execute_result"
    }
   ],
   "source": [
    "rawdata['labels'].unique().tolist()"
   ]
  },
  {
   "cell_type": "code",
   "execution_count": 10,
   "metadata": {},
   "outputs": [
    {
     "data": {
      "text/plain": [
       "labels\n",
       "world            2067\n",
       "entertainment    2036\n",
       "sports           1900\n",
       "technology       1791\n",
       "politics         1596\n",
       "science          1437\n",
       "automobile       1293\n",
       "Name: count, dtype: int64"
      ]
     },
     "execution_count": 10,
     "metadata": {},
     "output_type": "execute_result"
    }
   ],
   "source": [
    "rawdata['labels'].value_counts()"
   ]
  },
  {
   "cell_type": "code",
   "execution_count": 11,
   "metadata": {},
   "outputs": [
    {
     "data": {
      "image/png": "[encoded data removed]",
      "text/plain": [
       "<Figure size 640x480 with 1 Axes>"
      ]
     },
     "metadata": {},
     "output_type": "display_data"
    }
   ],
   "source": [
    "rawdata['labels'].value_counts().plot(kind='pie', autopct='%1.1f%%',ylabel='', title='Label Distribution',)\n",
    "plt.show()"
   ]
  },
  {
   "cell_type": "code",
   "execution_count": 12,
   "metadata": {},
   "outputs": [
    {
     "data": {
      "text/plain": [
       "count       7.000000\n",
       "mean     1731.428571\n",
       "std       298.492243\n",
       "min      1293.000000\n",
       "25%      1516.500000\n",
       "50%      1791.000000\n",
       "75%      1968.000000\n",
       "max      2067.000000\n",
       "Name: count, dtype: float64"
      ]
     },
     "execution_count": 12,
     "metadata": {},
     "output_type": "execute_result"
    }
   ],
   "source": [
    "rawdata['labels'].value_counts().describe()"
   ]
  },
  {
   "cell_type": "code",
   "execution_count": 13,
   "metadata": {},
   "outputs": [
    {
     "name": "stdout",
     "output_type": "stream",
     "text": [
      "count    12120.000000\n",
      "mean        69.683333\n",
      "std          3.104376\n",
      "min         49.000000\n",
      "25%         68.000000\n",
      "50%         70.000000\n",
      "75%         72.000000\n",
      "max         79.000000\n",
      "Name: word_count, dtype: float64\n"
     ]
    }
   ],
   "source": [
    "rawdata['word_count'] = rawdata['text'].apply(lambda x: len(x.split()))\n",
    "print(rawdata['word_count'].describe())"
   ]
  },
  {
   "cell_type": "code",
   "execution_count": 14,
   "metadata": {},
   "outputs": [
    {
     "data": {
      "image/png": "[encoded data removed]",
      "text/plain": [
       "<Figure size 640x480 with 1 Axes>"
      ]
     },
     "metadata": {},
     "output_type": "display_data"
    }
   ],
   "source": [
    "rawdata['word_count'].plot(kind='hist').set_xlabel('Word Count')\n",
    "plt.show()"
   ]
  },
  {
   "cell_type": "markdown",
   "metadata": {},
   "source": [
    "#### Clearly the dataset is a simple and already cleaned one, so there were no null values or duplicates, the dataset is a 12120 rows and  two column dataset with column names \"labels\" and \"text\". The label column corrsponds to the 7 news sections (technology, sports, world, politics, entertainment, automobile and lasstly science). The text column contains the news article or headline itself and a third column \"word_count was created to display the number of words in the corresponding text column. The labels distributions was between 10% for automobile and 17% for world news, which makes a lot of sense in the context of the data. The average word count was 69 while the minimum and maximum were 49 and 79 words respectively. This means that the model would be trained with prompts not too little or too large."
   ]
  }
 ],
 "metadata": {
  "kernelspec": {
   "display_name": "Python 3.12.6 ('.env_eda': venv)",
   "language": "python",
   "name": "python3"
  },
  "language_info": {
   "codemirror_mode": {
    "name": "ipython",
    "version": 3
   },
   "file_extension": ".py",
   "mimetype": "text/x-python",
   "name": "python",
   "nbconvert_exporter": "python",
   "pygments_lexer": "ipython3",
   "version": "3.12.6"
  },
  "vscode": {
   "interpreter": {
    "hash": "e29c4199cf5b76a0ef268939b5dcda08b521af9e60a422011a2929e2803f9ebb"
   }
  }
 },
 "nbformat": 4,
 "nbformat_minor": 2
}
